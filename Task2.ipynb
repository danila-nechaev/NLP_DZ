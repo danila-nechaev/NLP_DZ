{
 "cells": [
  {
   "cell_type": "code",
   "execution_count": 1,
   "metadata": {},
   "outputs": [],
   "source": [
    "import gzip\n",
    "import re\n",
    "import numpy as np\n",
    "\n",
    "from gensim.models import Word2Vec\n",
    "\n",
    "from dataclasses import dataclass\n",
    "from typing import Iterator, List\n",
    "\n",
    "from nltk.corpus import stopwords\n",
    "from yargy.tokenizer import MorphTokenizer\n",
    "\n",
    "from sklearn.feature_extraction.text import TfidfVectorizer\n",
    "\n",
    "from sklearn.svm import SVC\n",
    "from sklearn.model_selection import train_test_split\n",
    "from sklearn.metrics import classification_report, accuracy_score\n",
    "\n",
    "\n",
    "# Загрузка и чтение файлов\n",
    "\n",
    "@dataclass\n",
    "class Text:\n",
    "    label: str\n",
    "    title: str\n",
    "    text: str\n",
    "\n",
    "# Чтение файла\n",
    "def read_doc(fn: str=\"C:/Users/MSI-PC/Desktop/news.txt.gz\") -> Iterator[Text]:\n",
    "    with gzip.open(fn, \"rt\", encoding=\"utf-8\") as f:\n",
    "        for line in f:\n",
    "            yield Text(*line.strip().split(\"\\t\"))\n",
    "\n",
    "# Токенизация текста\n",
    "def tok_doc(doc):\n",
    "    return re.split(r'\\s+', doc, re.U)\n",
    "            \n",
    "# Токенизация текста без нормализации             \n",
    "def tokenize_text(text: str) -> List[str]:\n",
    "    text = text.lower()\n",
    "\n",
    "    words = re.findall(r'\\b\\w+\\b', text) \n",
    "\n",
    "    return words\n",
    "\n",
    "# Текст без знаков припенания\n",
    "def read_proc_text(text: str) -> str:\n",
    "    return ' '.join(tokenize_text(text))"
   ]
  },
  {
   "cell_type": "code",
   "execution_count": 2,
   "metadata": {},
   "outputs": [],
   "source": [
    "# Токенизация c нормализацей    \n",
    " \n",
    "stop_words = stopwords.words('russian')\n",
    "stop_words.extend(['это','свои'])\n",
    "ru_stopwords = set(stop_words)\n",
    "\n",
    "tokenizer = MorphTokenizer()  \n",
    "    \n",
    "def tokenize_norm_text(text: str) -> List[str]:\n",
    "    text2=' '.join([w.normalized for w in tokenizer(text) if w.normalized not in ru_stopwords])     \n",
    "    words = re.findall(r'\\b\\w+\\b', text2) \n",
    "    return words\n",
    "\n",
    "# Чтение нормализованного текста\n",
    "def read_norm_text(text: str) -> str:\n",
    "    return ' '.join(tokenize_norm_text(text))"
   ]
  },
  {
   "cell_type": "code",
   "execution_count": 3,
   "metadata": {},
   "outputs": [],
   "source": [
    "# Обучение word2vec без нормализации \n",
    "\n",
    "sentences = [tokenize_text(text.text) for text in read_doc()]\n",
    "\n",
    "# Обучаем модель\n",
    "w2v = Word2Vec(sentences)\n",
    "\n",
    "# Сохраняем модель\n",
    "w2v.wv.save_word2vec_format('word2vec_bez_norm.bin')\n"
   ]
  },
  {
   "cell_type": "code",
   "execution_count": 4,
   "metadata": {},
   "outputs": [],
   "source": [
    "# Обучение word2vec с нормализацией\n",
    "sentences2 = [tokenize_norm_text(text.text) for text in read_doc()]\n",
    "\n",
    "# Обучаем w2v\n",
    "w2v2 = Word2Vec(sentences2)\n",
    "\n",
    "# Cохраняем модель\n",
    "w2v2.wv.save_word2vec_format('word2vec_s_norm.bin')\n"
   ]
  },
  {
   "cell_type": "code",
   "execution_count": 6,
   "metadata": {},
   "outputs": [
    {
     "name": "stdout",
     "output_type": "stream",
     "text": [
      "\n",
      "Результаты:\n",
      "               precision    recall  f1-score   support\n",
      "\n",
      "    business       0.75      0.04      0.07        79\n",
      "     culture       0.60      0.57      0.59       279\n",
      "   economics       0.55      0.82      0.66       266\n",
      "      forces       0.54      0.49      0.52       149\n",
      "        life       0.56      0.69      0.62       288\n",
      "       media       0.57      0.59      0.58       299\n",
      "     science       0.67      0.59      0.62       288\n",
      "       sport       0.84      0.84      0.84       276\n",
      "       style       0.50      0.16      0.24        38\n",
      "      travel       0.00      0.00      0.00        38\n",
      "\n",
      "    accuracy                           0.62      2000\n",
      "   macro avg       0.56      0.48      0.47      2000\n",
      "weighted avg       0.61      0.62      0.60      2000\n",
      "\n",
      "\n",
      "Accuracy: 0.616\n"
     ]
    },
    {
     "name": "stderr",
     "output_type": "stream",
     "text": [
      "c:\\Users\\MSI-PC\\AppData\\Local\\Programs\\Python\\Python310\\lib\\site-packages\\sklearn\\metrics\\_classification.py:1509: UndefinedMetricWarning: Precision is ill-defined and being set to 0.0 in labels with no predicted samples. Use `zero_division` parameter to control this behavior.\n",
      "  _warn_prf(average, modifier, f\"{metric.capitalize()} is\", len(result))\n",
      "c:\\Users\\MSI-PC\\AppData\\Local\\Programs\\Python\\Python310\\lib\\site-packages\\sklearn\\metrics\\_classification.py:1509: UndefinedMetricWarning: Precision is ill-defined and being set to 0.0 in labels with no predicted samples. Use `zero_division` parameter to control this behavior.\n",
      "  _warn_prf(average, modifier, f\"{metric.capitalize()} is\", len(result))\n",
      "c:\\Users\\MSI-PC\\AppData\\Local\\Programs\\Python\\Python310\\lib\\site-packages\\sklearn\\metrics\\_classification.py:1509: UndefinedMetricWarning: Precision is ill-defined and being set to 0.0 in labels with no predicted samples. Use `zero_division` parameter to control this behavior.\n",
      "  _warn_prf(average, modifier, f\"{metric.capitalize()} is\", len(result))\n"
     ]
    }
   ],
   "source": [
    "# Перевести каждый документ в вектор\n",
    "def doc_to_vec(doc, model):\n",
    "\n",
    "    vecs = [model.wv[word] for word in tok_doc(doc) if word in model.wv]\n",
    "\n",
    "    # Усредняем\n",
    "    if vecs:\n",
    "        return np.mean(vecs, axis=0)\n",
    "    else:\n",
    "        print(\"Vector 0\")\n",
    "        return np.zeros(model.vector_size)\n",
    "\n",
    "\n",
    "# Загружаем текст \n",
    "docs=[read_proc_text(text.text) for text in read_doc()]\n",
    "labels = [text.label for text in read_doc()]\n",
    "\n",
    "\n",
    "# Преобразование в единный массив для обучения\n",
    "def get_array(X_avg):\n",
    "    return np.array([np.array(avg_vec) for avg_vec in X_avg])\n",
    "\n",
    "X = get_array([doc_to_vec(doc, w2v) for doc in docs])\n",
    "\n",
    "\n",
    "X_train, X_test, y_train, y_test = train_test_split(X, labels, test_size=0.2, random_state=42)\n",
    "\n",
    "\n",
    "svc = SVC()\n",
    "svc.fit(X_train, y_train)\n",
    "\n",
    "# Классификация\n",
    "y_pred = svc.predict(X_test)\n",
    "\n",
    "\n",
    "print(\"\\nРезультаты:\\n\", classification_report(y_test, y_pred))\n",
    "print(\"\\nAccuracy:\", accuracy_score(y_test, y_pred))"
   ]
  },
  {
   "cell_type": "code",
   "execution_count": null,
   "metadata": {},
   "outputs": [],
   "source": [
    "X.shape"
   ]
  },
  {
   "cell_type": "code",
   "execution_count": 8,
   "metadata": {},
   "outputs": [
    {
     "data": {
      "text/plain": [
       "(10000, 10738)"
      ]
     },
     "execution_count": 8,
     "metadata": {},
     "output_type": "execute_result"
    }
   ],
   "source": [
    "texts = list(read_doc(\"C:/Users/MSI-PC/Desktop/news.txt.gz\"))\n",
    "\n",
    "# Преобразование в вектор\n",
    "vectorizer = TfidfVectorizer(max_df=0.2, min_df=10)\n",
    "X2 = vectorizer.fit_transform([read_norm_text(text.text) for text in texts]).toarray()\n",
    "X2.shape"
   ]
  },
  {
   "cell_type": "code",
   "execution_count": 9,
   "metadata": {},
   "outputs": [
    {
     "data": {
      "text/plain": [
       "(10000, 500)"
      ]
     },
     "execution_count": 9,
     "metadata": {},
     "output_type": "execute_result"
    }
   ],
   "source": [
    "# Уменьшение размерности\n",
    "from sklearn.decomposition import PCA\n",
    "\n",
    "pca = PCA(n_components=500)\n",
    "X_pca = pca.fit_transform(X2)\n",
    "X_pca.shape"
   ]
  },
  {
   "cell_type": "code",
   "execution_count": 10,
   "metadata": {},
   "outputs": [],
   "source": [
    "X_train2, X_test2, y_train2, y_test2 = train_test_split(X_pca, labels, test_size=0.2, random_state=42)"
   ]
  },
  {
   "cell_type": "code",
   "execution_count": 11,
   "metadata": {},
   "outputs": [
    {
     "name": "stdout",
     "output_type": "stream",
     "text": [
      "\n",
      "Результат:\n",
      "               precision    recall  f1-score   support\n",
      "\n",
      "    business       0.86      0.24      0.38        79\n",
      "     culture       0.88      0.89      0.88       279\n",
      "   economics       0.74      0.95      0.83       266\n",
      "      forces       0.76      0.85      0.80       149\n",
      "        life       0.79      0.81      0.80       288\n",
      "       media       0.84      0.81      0.82       299\n",
      "     science       0.88      0.82      0.85       288\n",
      "       sport       0.94      0.99      0.97       276\n",
      "       style       1.00      0.63      0.77        38\n",
      "      travel       0.84      0.42      0.56        38\n",
      "\n",
      "    accuracy                           0.84      2000\n",
      "   macro avg       0.85      0.74      0.77      2000\n",
      "weighted avg       0.84      0.84      0.83      2000\n",
      "\n",
      "\n",
      "Accuracy:\n",
      " 0.8365\n"
     ]
    }
   ],
   "source": [
    "from sklearn.ensemble import RandomForestClassifier\n",
    "\n",
    "# Обучение\n",
    "rf_classifier = RandomForestClassifier(random_state=42)\n",
    "rf_classifier.fit(X_train2, y_train2)\n",
    "\n",
    "y_pred2 = rf_classifier.predict(X_test2)\n",
    "\n",
    "print(\"\\nРезультат:\\n\", classification_report(y_test2, y_pred2))\n",
    "print(\"\\nAccuracy:\\n\", accuracy_score(y_test2, y_pred2))"
   ]
  },
  {
   "cell_type": "code",
   "execution_count": 12,
   "metadata": {},
   "outputs": [
    {
     "name": "stdout",
     "output_type": "stream",
     "text": [
      "\n",
      "Результаты:\n",
      "               precision    recall  f1-score   support\n",
      "\n",
      "    business       0.86      0.38      0.53        79\n",
      "     culture       0.90      0.92      0.91       279\n",
      "   economics       0.81      0.95      0.87       266\n",
      "      forces       0.79      0.85      0.82       149\n",
      "        life       0.83      0.84      0.83       288\n",
      "       media       0.89      0.80      0.84       299\n",
      "     science       0.88      0.87      0.88       288\n",
      "       sport       0.95      0.99      0.97       276\n",
      "       style       0.94      0.84      0.89        38\n",
      "      travel       0.74      0.74      0.74        38\n",
      "\n",
      "    accuracy                           0.87      2000\n",
      "   macro avg       0.86      0.82      0.83      2000\n",
      "weighted avg       0.87      0.87      0.86      2000\n",
      "\n",
      "\n",
      "Accuracy:\n",
      " 0.8665\n"
     ]
    }
   ],
   "source": [
    "\n",
    "svc2 = SVC()\n",
    "svc2.fit(X_train2, y_train2)\n",
    "\n",
    "\n",
    "y_pred3 = svc2.predict(X_test2)\n",
    "\n",
    "\n",
    "print(\"\\nРезультаты:\\n\", classification_report(y_test2, y_pred3))\n",
    "print(\"\\nAccuracy:\\n\", accuracy_score(y_test2, y_pred3))"
   ]
  },
  {
   "cell_type": "code",
   "execution_count": 27,
   "metadata": {},
   "outputs": [
    {
     "data": {
      "text/plain": [
       "array([[-2.14930029e-02, -3.33440327e-02, -2.54877234e-02,\n",
       "        -5.96236025e-03,  1.90019790e-03, -4.49439045e-02,\n",
       "         1.70601793e-02, -2.10121223e-03,  1.29641664e-03,\n",
       "        -5.59656356e-03,  2.56318198e-02, -3.69692525e-03,\n",
       "         8.44701757e-03, -5.16915854e-03, -2.86081828e-02,\n",
       "         4.78661221e-03, -1.53442474e-02,  6.11820415e-03,\n",
       "         2.71343761e-02,  3.15846464e-03,  2.90577111e-02,\n",
       "        -5.00040757e-03,  1.47472006e-02, -3.34472032e-04,\n",
       "        -4.95930401e-03,  1.88331740e-02,  1.89620442e-02,\n",
       "         3.96031949e-03, -1.12607836e-02, -3.30873354e-03,\n",
       "        -1.52860389e-02, -1.67796527e-02, -6.11132308e-03,\n",
       "        -2.78674255e-03, -4.95226429e-05, -1.91568297e-02,\n",
       "        -3.64226467e-02,  3.64859750e-02,  6.75511789e-03,\n",
       "         4.53389436e-02, -1.32193676e-02,  2.45558788e-02,\n",
       "         2.36681689e-02, -1.40611714e-02,  3.24405146e-02,\n",
       "         5.39078768e-02,  3.67467681e-02,  2.60071547e-02,\n",
       "         2.11100315e-02,  2.36323025e-03, -3.00558768e-03,\n",
       "        -1.52665921e-02, -4.25562530e-02,  2.23721719e-02,\n",
       "        -7.42591704e-04,  1.86931309e-02,  1.27075703e-02,\n",
       "         4.58047838e-03,  8.61617989e-03,  2.17998079e-02,\n",
       "        -2.24086184e-02, -1.12716735e-02,  1.70138589e-02,\n",
       "         2.03115870e-03,  3.31888088e-03, -1.00849736e-02,\n",
       "        -1.91163244e-02,  3.47337454e-02,  1.35510222e-02,\n",
       "         4.24926662e-03, -1.14910857e-02,  5.04326562e-03,\n",
       "        -2.29217009e-02, -3.85981529e-03,  1.58503199e-02,\n",
       "        -5.90162210e-03, -1.49312892e-03,  1.66866973e-02,\n",
       "         1.74614368e-02,  1.80532717e-02, -6.83006105e-04,\n",
       "         2.73855825e-02, -9.43855395e-03,  6.62145601e-03,\n",
       "        -7.58154182e-03, -9.94152912e-03,  2.44791082e-02,\n",
       "         2.09959037e-02,  4.01630266e-02, -1.46839887e-02,\n",
       "         7.35823722e-03, -1.49799185e-02,  7.08204042e-03,\n",
       "        -8.49098242e-04, -1.08807735e-04, -3.69668132e-03,\n",
       "        -5.02093951e-03,  1.72591364e-02, -9.86864825e-03,\n",
       "        -4.52983832e-02, -1.37307549e-02,  1.94181593e-02,\n",
       "        -5.25671701e-02, -1.27999107e-02,  6.73014104e-03,\n",
       "         2.08861300e-03,  2.09743702e-02,  3.61077816e-03,\n",
       "        -4.15646206e-02, -2.60975774e-02, -6.24200388e-03,\n",
       "        -7.49609287e-03, -2.70379541e-02, -6.35631784e-02,\n",
       "        -3.14181671e-02, -2.35834065e-02, -2.11815120e-02,\n",
       "         5.01112603e-02, -9.74334293e-03,  1.68662227e-02,\n",
       "        -2.24467188e-02, -1.69645303e-02, -1.26675440e-02,\n",
       "         4.60101787e-02, -2.22212943e-02,  2.75863148e-02,\n",
       "        -2.74053658e-02,  5.84063065e-02, -1.52774074e-02,\n",
       "         9.85990217e-03,  5.34998001e-02,  1.30471677e-02,\n",
       "        -1.48569821e-02,  7.24350298e-03,  4.09442815e-03,\n",
       "         3.93027307e-02, -1.10454650e-02,  7.67539849e-04,\n",
       "         1.03950836e-02,  7.28972202e-03,  9.03730783e-03,\n",
       "        -3.24019503e-03, -2.65078184e-02, -5.41248133e-02,\n",
       "        -3.08598091e-02, -1.20765699e-02, -2.21180767e-03,\n",
       "        -3.26479685e-02, -1.86818426e-03, -2.50493521e-02,\n",
       "        -1.04559422e-02, -1.01765813e-02,  1.29101505e-02,\n",
       "         2.89950220e-03, -3.61256467e-02, -1.72203451e-02,\n",
       "         1.57906838e-02,  5.36355403e-03,  3.27891463e-02,\n",
       "         1.50913372e-02, -4.07164468e-03,  1.55531169e-03,\n",
       "         1.89657816e-02, -1.86113579e-02, -2.00210152e-02,\n",
       "        -1.50161818e-02,  8.00955995e-03,  1.89527815e-02,\n",
       "         3.71531684e-02,  2.53615550e-02, -1.26631362e-02,\n",
       "         1.55021780e-02,  2.33583568e-02, -3.66257626e-02,\n",
       "        -4.42738657e-02,  3.86963809e-03,  1.30439413e-02,\n",
       "         1.27763737e-02, -9.85452539e-04, -1.40195368e-02,\n",
       "         5.42717108e-03, -3.13696139e-02,  2.05634192e-02,\n",
       "         1.48233915e-02,  1.31447562e-02,  6.04597037e-02,\n",
       "         6.03793045e-03, -5.91891966e-03, -2.40143665e-04,\n",
       "        -1.43026513e-03, -7.64668379e-04, -3.82891140e-02,\n",
       "         4.19286166e-02,  6.20839741e-03, -1.56977798e-02,\n",
       "        -2.48558760e-03, -2.03209321e-02,  1.60161535e-02,\n",
       "        -2.29811747e-03, -1.70088338e-02,  4.32383344e-02,\n",
       "         1.27735262e-02, -2.52181831e-03, -4.94205594e-02,\n",
       "        -3.25383254e-02, -2.07257682e-02, -1.84697087e-02,\n",
       "        -8.15343615e-03, -3.85814777e-03, -7.84713400e-04,\n",
       "         5.52407390e-02, -2.53728657e-02,  1.76892432e-02,\n",
       "        -2.95115800e-02,  1.30004770e-02,  6.91252396e-02,\n",
       "         5.32683439e-02,  5.71946782e-02,  1.14325088e-02,\n",
       "         3.14957518e-02,  1.79931814e-02,  1.14040783e-02,\n",
       "        -4.78799745e-02,  3.97373141e-02,  3.20705178e-02,\n",
       "         2.75412574e-02,  8.11109960e-03, -1.28647207e-02,\n",
       "         4.98085950e-03,  6.76225318e-05,  1.18554168e-02,\n",
       "        -2.47078083e-02, -1.51868320e-02, -1.13881704e-02,\n",
       "        -3.94903528e-02,  1.75085013e-02, -1.96762719e-03,\n",
       "         1.72103596e-02,  1.71016734e-02, -1.11056698e-04,\n",
       "        -2.73760759e-02,  1.86050743e-02, -4.32705930e-02,\n",
       "        -3.15407788e-02, -5.79861905e-02, -3.97627755e-03,\n",
       "        -9.50385069e-03, -3.25305112e-03,  1.79129353e-02,\n",
       "         1.77693203e-02,  5.66879059e-03,  2.26998599e-02,\n",
       "        -4.49559017e-02, -6.63617023e-02,  2.47008767e-02,\n",
       "         3.17450150e-02, -4.53731482e-03,  1.42010746e-01,\n",
       "         3.43147086e-02,  1.46522401e-02, -9.02916286e-02,\n",
       "         3.90071168e-02,  4.23305916e-03, -7.56345167e-03,\n",
       "         1.01150276e-01,  3.30229371e-02,  3.99515347e-02,\n",
       "         2.23074873e-02,  7.95597452e-02,  1.16995267e-02,\n",
       "         3.11012907e-03,  3.54334514e-02, -8.82701909e-02,\n",
       "        -8.74235420e-02, -8.69846492e-02, -2.53453474e-03,\n",
       "        -7.55477971e-02, -1.00053313e-01, -4.75270653e-02,\n",
       "        -1.95082734e-03,  4.10628566e-02,  2.26089516e-02,\n",
       "         2.22068927e-02, -6.42149093e-02, -3.13397016e-02,\n",
       "        -5.56719094e-02,  2.06116861e-02, -5.15547675e-02,\n",
       "         9.17439620e-02,  2.25468554e-02,  6.24127410e-03,\n",
       "         3.93873170e-02, -1.17995154e-02, -6.68590102e-02,\n",
       "         1.19405976e-02,  1.22471118e-01, -1.35317240e-02,\n",
       "        -3.08806986e-03, -3.46197905e-02, -2.87194296e-02,\n",
       "        -5.24736220e-02,  3.32594636e-02,  7.98509964e-03,\n",
       "        -3.26543885e-02,  6.64579647e-02,  2.88048828e-02,\n",
       "        -3.98709775e-02,  8.52451772e-03,  9.37925382e-02,\n",
       "         5.24106646e-02, -5.87739189e-02, -4.69472924e-02,\n",
       "         8.45158425e-02,  5.86020170e-02,  5.91815058e-03,\n",
       "         5.63613009e-02,  6.49558987e-02,  4.37799841e-02,\n",
       "         2.08076501e-02,  2.32674115e-02, -8.47287905e-03,\n",
       "        -5.75607233e-02,  7.50197886e-03, -3.09327537e-02,\n",
       "        -6.25938628e-03,  8.08073661e-03, -2.47703764e-02,\n",
       "        -3.99950477e-03, -2.69067804e-02,  4.02683532e-02,\n",
       "         9.56094497e-02, -5.86966136e-02,  1.74618530e-02,\n",
       "        -1.34430631e-02,  4.03366160e-02,  2.93746715e-02,\n",
       "         2.34524739e-02, -1.28679284e-03,  1.20486411e-02,\n",
       "         1.95937493e-02,  2.34285226e-02,  2.12843721e-02,\n",
       "         5.19144958e-02,  5.41892104e-02, -6.77402757e-02,\n",
       "         1.13978031e-02, -8.93497066e-02,  1.75640532e-02,\n",
       "        -5.56229179e-02, -2.18114383e-02,  2.29886335e-02,\n",
       "        -3.35325987e-02,  3.63336041e-02, -8.19522605e-03,\n",
       "         3.69655299e-02, -2.01144312e-02, -4.36022236e-02,\n",
       "         6.89966979e-02,  1.13617896e-02,  4.05547519e-02,\n",
       "        -7.14517664e-02, -6.95967490e-03, -7.85375042e-03,\n",
       "         7.43651670e-03,  3.13725209e-02, -2.47258302e-02,\n",
       "         1.36900023e-02,  7.55544363e-02, -2.86719264e-02,\n",
       "         2.13204435e-03, -3.02240160e-02,  4.15920733e-02,\n",
       "         5.09732200e-02,  8.24653536e-03, -1.42428466e-02,\n",
       "         2.70475091e-02, -8.32947922e-02,  5.65089768e-03,\n",
       "        -4.20620143e-02,  2.44538133e-03, -2.03788861e-02,\n",
       "         3.69128087e-02,  2.99769611e-02,  5.24418478e-03,\n",
       "        -2.49467021e-03,  4.79752969e-02, -1.62006096e-03,\n",
       "         3.00546535e-03,  6.17875875e-02, -2.18520420e-02,\n",
       "         5.57164116e-03, -1.97120757e-02, -1.31330217e-02,\n",
       "        -5.22017988e-02, -4.20363425e-02, -5.90067652e-03,\n",
       "         1.05689450e-02,  9.93911566e-04, -1.25503368e-02,\n",
       "         1.69397694e-02, -4.30733530e-02, -2.48266353e-03,\n",
       "        -2.93118710e-02, -7.37844582e-03,  3.04044413e-02,\n",
       "        -1.59529707e-02,  3.33350766e-02, -5.51755983e-02,\n",
       "        -4.81815823e-02,  1.04762944e-02,  8.04037493e-03,\n",
       "         1.61091354e-02, -4.35048535e-02, -4.42175321e-02,\n",
       "         1.60986293e-03, -8.47827684e-03,  3.57270819e-02,\n",
       "        -1.30866107e-02,  6.79847985e-04, -2.32106056e-02,\n",
       "         1.17859412e-03,  1.91870323e-02, -1.40891747e-02,\n",
       "        -5.40289733e-03,  5.18004156e-02,  4.51269395e-03,\n",
       "         2.04564271e-02, -8.85852659e-03, -1.65321800e-02,\n",
       "         1.35643824e-02,  6.83027942e-03, -3.22523447e-02,\n",
       "        -5.55255446e-03, -6.76146557e-03, -2.58928674e-02,\n",
       "         2.06172676e-02, -1.19572679e-02,  1.88332043e-02,\n",
       "        -1.91744413e-03,  3.71114888e-02,  9.92616422e-03,\n",
       "         1.13586160e-02, -6.87891561e-03,  2.42824506e-02,\n",
       "         1.04406598e-02, -7.71804350e-03, -2.34669725e-03,\n",
       "        -2.54624163e-02, -8.27552412e-04, -3.01222584e-02,\n",
       "         8.30067113e-03, -2.64373133e-02,  2.66951135e-02,\n",
       "         2.53815984e-03,  1.09509850e-02,  2.83894829e-02,\n",
       "         1.63958560e-02,  1.74890938e-03,  2.56301030e-02,\n",
       "        -1.04149171e-02,  2.01093889e-04,  2.90210679e-02,\n",
       "        -3.77988599e-02,  5.47782450e-03,  7.32336396e-03,\n",
       "         5.82888968e-03, -1.89200312e-02, -1.54646210e-02,\n",
       "         1.46890053e-02,  2.39248994e-03,  1.23192960e-02,\n",
       "         6.91919900e-03,  2.04399688e-02, -1.05257203e-02,\n",
       "        -2.76231894e-03,  1.70893031e-03,  2.61761238e-02,\n",
       "         9.38278866e-04,  1.37943813e-02,  1.08499663e-02,\n",
       "        -1.98244982e-02, -2.24786017e-02, -3.53821096e-03,\n",
       "        -6.51359435e-03, -2.92167169e-02, -1.83806599e-02,\n",
       "         1.35085114e-02, -4.19634902e-03,  1.19316842e-02,\n",
       "         7.38991756e-03,  1.38713226e-02,  3.59410744e-02,\n",
       "         6.13707182e-03, -3.17775593e-02,  1.56134383e-02,\n",
       "         2.53764669e-02, -1.59076212e-02, -1.83673067e-02,\n",
       "         1.16052316e-02,  2.31626684e-02]])"
      ]
     },
     "execution_count": 27,
     "metadata": {},
     "output_type": "execute_result"
    }
   ],
   "source": [
    "# Преобразование новых текстов\n",
    "def transform_text(text: str) -> np.ndarray:\n",
    "    normalized_text = read_norm_text(text)\n",
    "    vect = vectorizer.transform([normalized_text]).toarray()\n",
    "    return pca.transform(vect)\n",
    "\n",
    "transform_text(\"собака\")"
   ]
  },
  {
   "cell_type": "code",
   "execution_count": 26,
   "metadata": {},
   "outputs": [
    {
     "data": {
      "text/plain": [
       "array(['life'], dtype='<U9')"
      ]
     },
     "execution_count": 26,
     "metadata": {},
     "output_type": "execute_result"
    }
   ],
   "source": [
    "svc2.predict(transform_text(\"собака\"))"
   ]
  },
  {
   "cell_type": "code",
   "execution_count": 23,
   "metadata": {},
   "outputs": [
    {
     "data": {
      "text/plain": [
       "array(['economics'], dtype='<U9')"
      ]
     },
     "execution_count": 23,
     "metadata": {},
     "output_type": "execute_result"
    }
   ],
   "source": [
    "svc2.predict(transform_text(\"рубль\"))"
   ]
  }
 ],
 "metadata": {
  "kernelspec": {
   "display_name": "Python 3",
   "language": "python",
   "name": "python3"
  },
  "language_info": {
   "codemirror_mode": {
    "name": "ipython",
    "version": 3
   },
   "file_extension": ".py",
   "mimetype": "text/x-python",
   "name": "python",
   "nbconvert_exporter": "python",
   "pygments_lexer": "ipython3",
   "version": "3.10.8"
  }
 },
 "nbformat": 4,
 "nbformat_minor": 2
}
