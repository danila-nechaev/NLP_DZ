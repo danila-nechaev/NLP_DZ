{
 "cells": [
  {
   "cell_type": "code",
   "execution_count": null,
   "metadata": {},
   "outputs": [
    {
     "name": "stderr",
     "output_type": "stream",
     "text": [
      "Device set to use cpu\n",
      "Truncation was not explicitly activated but `max_length` is provided a specific value, please use `truncation=True` to explicitly truncate examples to max length. Defaulting to 'longest_first' truncation strategy. If you encode pairs of sequences (GLUE-style) with the tokenizer you can select this strategy more precisely by providing a specific strategy to `truncation`.\n",
      "Setting `pad_token_id` to `eos_token_id`:50256 for open-end generation.\n"
     ]
    },
    {
     "name": "stdout",
     "output_type": "stream",
     "text": [
      "Вариант 1: It may be best to use a water bar.\n",
      "\n",
      "You can avoid this problem if you've been drinking too much energy drink. This is due \n",
      "Схожесть: 0.4916\n",
      "Вариант 2: Drink more water and take longer to get used to it. If you're going to drink too much, do it before and after the workout. \n",
      "Схожесть: 0.6450\n",
      "Вариант 3: After the workout you can also switch to another method, such as running the same pace twice a day for five days, or you could incorporate a new \n",
      "Схожесть: 0.4746\n",
      "Вариант 4: If you're taking a big dip, keep your back, arms, legs and torso straight. Take time to clean your shoulders and chest. Try not \n",
      "Схожесть: 0.5332\n",
      "Вариант 5: Ditch your soda and drink some water. The only time you'll be losing weight is during your next workout. It won't be as \n",
      "Схожесть: 0.5998\n"
     ]
    }
   ],
   "source": [
    "from transformers import pipeline\n",
    "from sentence_transformers import SentenceTransformer, util\n",
    "\n",
    "# Исходное предложение\n",
    "source_sentence = \"After your workout, remember to focus on maintaining a good water balance.\"\n",
    "\n",
    "# Генерируем прдложения на основе ГПТ-2\n",
    "generator = pipeline(\"text-generation\", model=\"gpt2\", device=-1)\n",
    "\n",
    "\n",
    "generated_texts = generator(\n",
    "    f\"Reword the following sentence: {source_sentence}\",\n",
    "    max_length=50,           \n",
    "    num_return_sequences=5,  \n",
    "    temperature=0.8,         \n",
    "    no_repeat_ngram_size=2,  \n",
    ")\n",
    "\n",
    "# Извлекаем сгенеренные фразы\n",
    "variants = [text[\"generated_text\"].strip() for text in generated_texts]\n",
    "\n",
    "# Убираем запрос из текста\n",
    "variants = [variant.replace(f\"Reword the following sentence: {source_sentence}\", \"\").strip() for variant in variants]\n",
    "\n",
    "# Проверка схожести текстов\n",
    "similarity_model = SentenceTransformer('paraphrase-MiniLM-L6-v2')\n",
    "\n",
    "embeddings = similarity_model.encode([source_sentence] + variants, convert_to_tensor=True)\n",
    "cosine_scores = util.cos_sim(embeddings[0], embeddings[1:])\n",
    "\n",
    "#Результаты\n",
    "for i, (variant, score) in enumerate(zip(variants, cosine_scores[0])):\n",
    "    print(f\"Вариант {i+1}: {variant} \\nСхожесть: {score.item():.4f}\")\n"
   ]
  }
 ],
 "metadata": {
  "kernelspec": {
   "display_name": "Python 3",
   "language": "python",
   "name": "python3"
  },
  "language_info": {
   "codemirror_mode": {
    "name": "ipython",
    "version": 3
   },
   "file_extension": ".py",
   "mimetype": "text/x-python",
   "name": "python",
   "nbconvert_exporter": "python",
   "pygments_lexer": "ipython3",
   "version": "3.10.8"
  }
 },
 "nbformat": 4,
 "nbformat_minor": 2
}
